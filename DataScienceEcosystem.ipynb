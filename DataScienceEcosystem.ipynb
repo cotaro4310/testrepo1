{
 "cells": [
  {
   "cell_type": "markdown",
   "id": "7b82aba2-4e19-4e75-8e3a-d053547a748c",
   "metadata": {},
   "source": [
    "# Data Science Tools and Ecosystem"
   ]
  },
  {
   "cell_type": "markdown",
   "id": "8c947b29-1009-41dc-98d1-dbc6ce50f42e",
   "metadata": {},
   "source": [
    "In this notebook, Data Science Tools and Ecosystem are summarized."
   ]
  },
  {
   "cell_type": "markdown",
   "id": "a14c5ca2-f0b7-4245-913f-b6d6b52966d0",
   "metadata": {},
   "source": [
    "**Objectives**"
   ]
  },
  {
   "cell_type": "markdown",
   "id": "980ca36c-98d2-47e8-a6a6-992ae9919888",
   "metadata": {},
   "source": [
    "* Python\n",
    "* R\n",
    "* SQL\n",
    "* Jupyter Notebook\n",
    "* RStudio"
   ]
  },
  {
   "cell_type": "code",
   "execution_count": null,
   "id": "daa97853-6cd0-40e2-8110-20a40dc0218b",
   "metadata": {},
   "outputs": [],
   "source": []
  },
  {
   "cell_type": "markdown",
   "id": "71b52df8-3296-4c45-b503-36184ccd98e9",
   "metadata": {
    "tags": []
   },
   "source": [
    "Some of the popular languages that Data Scientists use are:\n",
    "1. Python\n",
    "1. R\n",
    "1. SQL"
   ]
  },
  {
   "cell_type": "markdown",
   "id": "8d03e287-e00c-443f-bc93-e7f61e58de67",
   "metadata": {},
   "source": [
    "|      |  Data Science Tools  |\n",
    "|------|----------------------|\n",
    "|   1  | Jupyter Notebook     | \n",
    "|   2  | RStudio              | \n",
    "|   3  | GitHub               | "
   ]
  },
  {
   "cell_type": "markdown",
   "id": "a451c727-6082-4b94-a0e9-fb6be2957adf",
   "metadata": {
    "tags": []
   },
   "source": [
    "### Below are a few examples of evaluating arithmetic expressions in Python."
   ]
  },
  {
   "cell_type": "markdown",
   "id": "998f0e21-6340-4e7a-b400-6f3461245467",
   "metadata": {},
   "source": [
    "Below are a few examples of evaluating arithmetic expressions in Python."
   ]
  },
  {
   "cell_type": "markdown",
   "id": "a9e2f5eb-dc53-4d23-bfa0-2fe44b266d9b",
   "metadata": {},
   "source": [
    "In this code cell evaluate the expression (3*4)+5.\n",
    "This a simple arithmetic expression to mutiply then add integers.\n",
    "Then execute the cell to ensure the expression returns the expected output of 17."
   ]
  },
  {
   "cell_type": "code",
   "execution_count": 1,
   "id": "8eee303d-fda5-4c95-b713-1c2a03a6700b",
   "metadata": {
    "tags": []
   },
   "outputs": [
    {
     "data": {
      "text/plain": [
       "17"
      ]
     },
     "execution_count": 1,
     "metadata": {},
     "output_type": "execute_result"
    }
   ],
   "source": [
    "(3*4)+5"
   ]
  },
  {
   "cell_type": "markdown",
   "id": "0f1379a2-b30b-40a2-8a50-0cdb38dc258f",
   "metadata": {},
   "source": [
    "In this code cell write an expression that converts 200 minutes into hours.\n",
    "This will convert 200 minutes to hours by diving by 60.\n",
    "Run the cell to evaluate the expression."
   ]
  },
  {
   "cell_type": "code",
   "execution_count": 2,
   "id": "b1528ff9-629c-467c-a3ca-391a74ca74b5",
   "metadata": {
    "tags": []
   },
   "outputs": [
    {
     "data": {
      "text/plain": [
       "3.3333333333333335"
      ]
     },
     "execution_count": 2,
     "metadata": {},
     "output_type": "execute_result"
    }
   ],
   "source": [
    "200/60"
   ]
  },
  {
   "cell_type": "markdown",
   "id": "aa3ca33d-d0a6-4ee3-8c2c-eaa14cd0dbcb",
   "metadata": {},
   "source": [
    "hours"
   ]
  },
  {
   "cell_type": "markdown",
   "id": "293a97ae-2bf1-4548-a09d-74bd5b118884",
   "metadata": {},
   "source": [
    "## Author"
   ]
  },
  {
   "cell_type": "markdown",
   "id": "94182666-d7b2-4fbc-9ca8-6aa1e36c9228",
   "metadata": {},
   "source": [
    "Tomo Shimizu"
   ]
  },
  {
   "cell_type": "code",
   "execution_count": null,
   "id": "bd393f56-b9ed-42f6-b793-e1dc6e8dab18",
   "metadata": {},
   "outputs": [],
   "source": []
  }
 ],
 "metadata": {
  "kernelspec": {
   "display_name": "Python",
   "language": "python",
   "name": "conda-env-python-py"
  },
  "language_info": {
   "codemirror_mode": {
    "name": "ipython",
    "version": 3
   },
   "file_extension": ".py",
   "mimetype": "text/x-python",
   "name": "python",
   "nbconvert_exporter": "python",
   "pygments_lexer": "ipython3",
   "version": "3.7.12"
  }
 },
 "nbformat": 4,
 "nbformat_minor": 5
}
